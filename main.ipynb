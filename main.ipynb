{
 "cells": [
  {
   "cell_type": "markdown",
   "id": "0472967f",
   "metadata": {},
   "source": [
    "#### Loading Dataset"
   ]
  },
  {
   "cell_type": "code",
   "execution_count": null,
   "id": "e803a7a0",
   "metadata": {},
   "outputs": [],
   "source": [
    "import pandas as pd\n",
    "\n",
    "df = pd.read_csv(\"dataset/online_retail.csv\")\n",
    "df.head()"
   ]
  },
  {
   "cell_type": "code",
   "execution_count": null,
   "id": "c1d9b258",
   "metadata": {},
   "outputs": [],
   "source": [
    "df.info()"
   ]
  },
  {
   "cell_type": "markdown",
   "id": "8f471ebf",
   "metadata": {},
   "source": [
    "#### Handle Null Values and add new columns"
   ]
  },
  {
   "cell_type": "code",
   "execution_count": null,
   "id": "a2be5cc7",
   "metadata": {},
   "outputs": [],
   "source": [
    "# Check for null values \n",
    "df.isnull().sum()"
   ]
  },
  {
   "cell_type": "code",
   "execution_count": null,
   "id": "fd2b81b1",
   "metadata": {},
   "outputs": [],
   "source": [
    "# Remove all entries with null CustomerID \n",
    "df = df[df['CustomerID'].notnull()]"
   ]
  },
  {
   "cell_type": "code",
   "execution_count": null,
   "id": "5243789f",
   "metadata": {},
   "outputs": [],
   "source": [
    "# ADD new column to store Total Price \n",
    "df['TotalPrice'] = df['Quantity'] * df['UnitPrice']"
   ]
  },
  {
   "cell_type": "markdown",
   "id": "500aa469",
   "metadata": {},
   "source": [
    "#### Data type conversions"
   ]
  },
  {
   "cell_type": "code",
   "execution_count": null,
   "id": "d79a301b",
   "metadata": {},
   "outputs": [],
   "source": [
    "# Convert InvoiceDate to Date Type \n",
    "df['InvoiceDate'] = pd.to_datetime(df['InvoiceDate'])"
   ]
  },
  {
   "cell_type": "code",
   "execution_count": null,
   "id": "4cdef6de",
   "metadata": {},
   "outputs": [],
   "source": [
    "df.head()"
   ]
  },
  {
   "cell_type": "markdown",
   "id": "a3d13cec",
   "metadata": {},
   "source": [
    "#### Analysis"
   ]
  },
  {
   "cell_type": "code",
   "execution_count": null,
   "id": "55e3580d",
   "metadata": {},
   "outputs": [],
   "source": [
    "# Determine last date for Retail Data\n",
    "ref_date = df['InvoiceDate'].max() + pd.Timedelta(days=1)"
   ]
  },
  {
   "cell_type": "code",
   "execution_count": null,
   "id": "bb6a2e53",
   "metadata": {},
   "outputs": [],
   "source": [
    "# Grouping For Recency ,Frequency, Monetary\n",
    "rfm = df.groupby('CustomerID').agg({\n",
    "    'InvoiceDate': lambda x : (ref_date - x.max()).days,\n",
    "    'InvoiceNo': 'nunique',\n",
    "    'TotalPrice': 'sum'\n",
    "}).reset_index()\n",
    "\n",
    "rfm.rename(columns={\n",
    "    'InvoiceDate': 'Recency',\n",
    "    'InvoiceNo': 'Frequency',\n",
    "    'TotalPrice': 'Monetary'\n",
    "}, inplace=True)\n",
    "rfm.head()"
   ]
  },
  {
   "cell_type": "code",
   "execution_count": null,
   "id": "2a69fa6d",
   "metadata": {},
   "outputs": [],
   "source": [
    "rfm['R_Score'] = pd.qcut(rfm['Recency'], 5, labels=[5, 4, 3, 2, 1])\n",
    "rfm['F_Score'] = pd.qcut(rfm['Frequency'].rank(method='first'), 5, labels=[1, 2, 3, 4, 5])\n",
    "rfm['M_Score'] = pd.qcut(rfm['Monetary'], 5, labels=[1, 2, 3, 4, 5])\n",
    "\n",
    "rfm['rfm_score'] = rfm[['R_Score', 'F_Score', 'M_Score']].sum(axis=1)\n",
    "rfm.head()"
   ]
  },
  {
   "cell_type": "code",
   "execution_count": null,
   "id": "a07af835",
   "metadata": {},
   "outputs": [],
   "source": [
    "def segment(rfm):\n",
    "    if rfm['rfm_score'] >= 12:\n",
    "        return 'Champians'\n",
    "    elif rfm['rfm_score'] >= 9:\n",
    "        return 'Loyal Customers'\n",
    "    elif rfm['rfm_score'] >= 7:\n",
    "        return 'Potential Customers'\n",
    "    elif rfm['rfm_score'] >= 4:\n",
    "        return 'At Risk'\n",
    "    else:\n",
    "        return 'Lost'\n",
    "    \n",
    "rfm['Segment'] = rfm.apply(segment, axis=1)\n",
    "\n",
    "rfm.head()\n"
   ]
  },
  {
   "cell_type": "code",
   "execution_count": null,
   "id": "29f7e251",
   "metadata": {},
   "outputs": [],
   "source": [
    "segment = rfm.groupby('Segment').agg({'CustomerID': 'count'})\n",
    "segment"
   ]
  },
  {
   "cell_type": "code",
   "execution_count": null,
   "id": "be1deb8f",
   "metadata": {},
   "outputs": [],
   "source": [
    "import matplotlib.pyplot as plt\n",
    "import seaborn as sns\n",
    "\n",
    "sns.set_theme(style=\"whitegrid\")\n",
    "\n",
    "plt.figure(figsize=(8, 6))\n",
    "palette = sns.color_palette(\"viridis\",  n_colors=rfm['Segment'].nunique())\n",
    "\n",
    "ax = sns.countplot(data=rfm, x='Segment', order=rfm['Segment'].value_counts().index, hue='Segment', palette=palette, legend=False)\n",
    "\n",
    "for p in ax.patches:\n",
    "    ax.annotate(f'{p.get_height()}', (p.get_x() + p.get_width() /2., p.get_height()), ha='center', va='bottom', fontsize=10, fontweight='bold')\n",
    "plt.title(\"Customer Segments Distribution\", fontsize=16, weight='bold')\n",
    "plt.xlabel(\"Segment\", fontsize=12, weight='bold')\n",
    "plt.ylabel(\"No of Customers\", fontsize=12, weight='bold')\n",
    "plt.xticks(rotation=30, ha='right')\n",
    "plt.tight_layout()\n",
    "plt.show()"
   ]
  },
  {
   "cell_type": "code",
   "execution_count": null,
   "id": "63ac6770",
   "metadata": {},
   "outputs": [],
   "source": []
  }
 ],
 "metadata": {
  "kernelspec": {
   "display_name": "Python 3",
   "language": "python",
   "name": "python3"
  },
  "language_info": {
   "codemirror_mode": {
    "name": "ipython",
    "version": 3
   },
   "file_extension": ".py",
   "mimetype": "text/x-python",
   "name": "python",
   "nbconvert_exporter": "python",
   "pygments_lexer": "ipython3",
   "version": "3.13.6"
  }
 },
 "nbformat": 4,
 "nbformat_minor": 5
}
